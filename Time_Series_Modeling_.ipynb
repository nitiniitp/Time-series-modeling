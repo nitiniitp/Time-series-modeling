{
  "nbformat": 4,
  "nbformat_minor": 0,
  "metadata": {
    "kernelspec": {
      "display_name": "Python 3",
      "language": "python",
      "name": "python3"
    },
    "language_info": {
      "codemirror_mode": {
        "name": "ipython",
        "version": 3
      },
      "file_extension": ".py",
      "mimetype": "text/x-python",
      "name": "python",
      "nbconvert_exporter": "python",
      "pygments_lexer": "ipython3",
      "version": "3.8.3"
    },
    "colab": {
      "name": "Time Series Modeling .ipynb",
      "provenance": [],
      "collapsed_sections": [],
      "include_colab_link": true
    }
  },
  "cells": [
    {
      "cell_type": "markdown",
      "metadata": {
        "id": "view-in-github",
        "colab_type": "text"
      },
      "source": [
        "<a href=\"https://colab.research.google.com/github/nitiniitp/Time-series-modeling/blob/main/Time_Series_Modeling_.ipynb\" target=\"_parent\"><img src=\"https://colab.research.google.com/assets/colab-badge.svg\" alt=\"Open In Colab\"/></a>"
      ]
    },
    {
      "cell_type": "code",
      "metadata": {
        "id": "gr8BeyZtptdv"
      },
      "source": [
        "import numpy as np\n",
        "import pandas as pd\n",
        "import matplotlib\n",
        "import matplotlib.pyplot as plt\n",
        "import seaborn as sns\n",
        "import statsmodels.api as sm\n",
        "import itertools"
      ],
      "execution_count": 7,
      "outputs": []
    },
    {
      "cell_type": "code",
      "metadata": {
        "id": "n2Uauy1dptdw"
      },
      "source": [
        "#option for bringing in Excel file\n",
        "df = pd.read_excel(\"/content/Sample - Superstore.xlsx\")\n",
        "#option for bringing in the CSV file\n",
        "#df = pd.read_csv(\"Sample - Superstore.xlsx\")"
      ],
      "execution_count": 8,
      "outputs": []
    },
    {
      "cell_type": "code",
      "metadata": {
        "id": "mpo2AiNMptdx",
        "outputId": "c0e67837-6051-4ac0-9ef4-ee59ec229229"
      },
      "source": [
        "df.head(3)"
      ],
      "execution_count": null,
      "outputs": [
        {
          "output_type": "execute_result",
          "data": {
            "text/html": [
              "<div>\n",
              "<style scoped>\n",
              "    .dataframe tbody tr th:only-of-type {\n",
              "        vertical-align: middle;\n",
              "    }\n",
              "\n",
              "    .dataframe tbody tr th {\n",
              "        vertical-align: top;\n",
              "    }\n",
              "\n",
              "    .dataframe thead th {\n",
              "        text-align: right;\n",
              "    }\n",
              "</style>\n",
              "<table border=\"1\" class=\"dataframe\">\n",
              "  <thead>\n",
              "    <tr style=\"text-align: right;\">\n",
              "      <th></th>\n",
              "      <th>Row ID</th>\n",
              "      <th>Order ID</th>\n",
              "      <th>Order Date</th>\n",
              "      <th>Ship Date</th>\n",
              "      <th>Ship Mode</th>\n",
              "      <th>Customer ID</th>\n",
              "      <th>Customer Name</th>\n",
              "      <th>Segment</th>\n",
              "      <th>Country</th>\n",
              "      <th>City</th>\n",
              "      <th>...</th>\n",
              "      <th>Postal Code</th>\n",
              "      <th>Region</th>\n",
              "      <th>Product ID</th>\n",
              "      <th>Category</th>\n",
              "      <th>Sub-Category</th>\n",
              "      <th>Product Name</th>\n",
              "      <th>Sales</th>\n",
              "      <th>Quantity</th>\n",
              "      <th>Discount</th>\n",
              "      <th>Profit</th>\n",
              "    </tr>\n",
              "  </thead>\n",
              "  <tbody>\n",
              "    <tr>\n",
              "      <th>0</th>\n",
              "      <td>1</td>\n",
              "      <td>CA-2016-152156</td>\n",
              "      <td>2016-11-08</td>\n",
              "      <td>2016-11-11</td>\n",
              "      <td>Second Class</td>\n",
              "      <td>CG-12520</td>\n",
              "      <td>Claire Gute</td>\n",
              "      <td>Consumer</td>\n",
              "      <td>United States</td>\n",
              "      <td>Henderson</td>\n",
              "      <td>...</td>\n",
              "      <td>42420</td>\n",
              "      <td>South</td>\n",
              "      <td>FUR-BO-10001798</td>\n",
              "      <td>Furniture</td>\n",
              "      <td>Bookcases</td>\n",
              "      <td>Bush Somerset Collection Bookcase</td>\n",
              "      <td>261.96</td>\n",
              "      <td>2</td>\n",
              "      <td>0.0</td>\n",
              "      <td>41.9136</td>\n",
              "    </tr>\n",
              "    <tr>\n",
              "      <th>1</th>\n",
              "      <td>2</td>\n",
              "      <td>CA-2016-152156</td>\n",
              "      <td>2016-11-08</td>\n",
              "      <td>2016-11-11</td>\n",
              "      <td>Second Class</td>\n",
              "      <td>CG-12520</td>\n",
              "      <td>Claire Gute</td>\n",
              "      <td>Consumer</td>\n",
              "      <td>United States</td>\n",
              "      <td>Henderson</td>\n",
              "      <td>...</td>\n",
              "      <td>42420</td>\n",
              "      <td>South</td>\n",
              "      <td>FUR-CH-10000454</td>\n",
              "      <td>Furniture</td>\n",
              "      <td>Chairs</td>\n",
              "      <td>Hon Deluxe Fabric Upholstered Stacking Chairs,...</td>\n",
              "      <td>731.94</td>\n",
              "      <td>3</td>\n",
              "      <td>0.0</td>\n",
              "      <td>219.5820</td>\n",
              "    </tr>\n",
              "    <tr>\n",
              "      <th>2</th>\n",
              "      <td>3</td>\n",
              "      <td>CA-2016-138688</td>\n",
              "      <td>2016-06-12</td>\n",
              "      <td>2016-06-16</td>\n",
              "      <td>Second Class</td>\n",
              "      <td>DV-13045</td>\n",
              "      <td>Darrin Van Huff</td>\n",
              "      <td>Corporate</td>\n",
              "      <td>United States</td>\n",
              "      <td>Los Angeles</td>\n",
              "      <td>...</td>\n",
              "      <td>90036</td>\n",
              "      <td>West</td>\n",
              "      <td>OFF-LA-10000240</td>\n",
              "      <td>Office Supplies</td>\n",
              "      <td>Labels</td>\n",
              "      <td>Self-Adhesive Address Labels for Typewriters b...</td>\n",
              "      <td>14.62</td>\n",
              "      <td>2</td>\n",
              "      <td>0.0</td>\n",
              "      <td>6.8714</td>\n",
              "    </tr>\n",
              "  </tbody>\n",
              "</table>\n",
              "<p>3 rows × 21 columns</p>\n",
              "</div>"
            ],
            "text/plain": [
              "   Row ID        Order ID Order Date  Ship Date     Ship Mode Customer ID  \\\n",
              "0       1  CA-2016-152156 2016-11-08 2016-11-11  Second Class    CG-12520   \n",
              "1       2  CA-2016-152156 2016-11-08 2016-11-11  Second Class    CG-12520   \n",
              "2       3  CA-2016-138688 2016-06-12 2016-06-16  Second Class    DV-13045   \n",
              "\n",
              "     Customer Name    Segment        Country         City  ... Postal Code  \\\n",
              "0      Claire Gute   Consumer  United States    Henderson  ...       42420   \n",
              "1      Claire Gute   Consumer  United States    Henderson  ...       42420   \n",
              "2  Darrin Van Huff  Corporate  United States  Los Angeles  ...       90036   \n",
              "\n",
              "   Region       Product ID         Category Sub-Category  \\\n",
              "0   South  FUR-BO-10001798        Furniture    Bookcases   \n",
              "1   South  FUR-CH-10000454        Furniture       Chairs   \n",
              "2    West  OFF-LA-10000240  Office Supplies       Labels   \n",
              "\n",
              "                                        Product Name   Sales  Quantity  \\\n",
              "0                  Bush Somerset Collection Bookcase  261.96         2   \n",
              "1  Hon Deluxe Fabric Upholstered Stacking Chairs,...  731.94         3   \n",
              "2  Self-Adhesive Address Labels for Typewriters b...   14.62         2   \n",
              "\n",
              "   Discount    Profit  \n",
              "0       0.0   41.9136  \n",
              "1       0.0  219.5820  \n",
              "2       0.0    6.8714  \n",
              "\n",
              "[3 rows x 21 columns]"
            ]
          },
          "metadata": {
            "tags": []
          },
          "execution_count": 4
        }
      ]
    },
    {
      "cell_type": "code",
      "metadata": {
        "colab": {
          "base_uri": "https://localhost:8080/"
        },
        "id": "sUldoTiMptdy",
        "outputId": "0fd131a3-7cfa-4343-dad0-bdb48faa71af"
      },
      "source": [
        "#how much data?\n",
        "#(rows, columns)\n",
        "df.shape"
      ],
      "execution_count": 9,
      "outputs": [
        {
          "output_type": "execute_result",
          "data": {
            "text/plain": [
              "(9994, 21)"
            ]
          },
          "metadata": {
            "tags": []
          },
          "execution_count": 9
        }
      ]
    },
    {
      "cell_type": "code",
      "metadata": {
        "id": "3KTOXIuoptdy",
        "outputId": "0067adcc-e73d-4828-a52e-45d1b32b67e0"
      },
      "source": [
        "#what are my columns?\n",
        "df.columns"
      ],
      "execution_count": null,
      "outputs": [
        {
          "output_type": "execute_result",
          "data": {
            "text/plain": [
              "Index(['Row ID', 'Order ID', 'Order Date', 'Ship Date', 'Ship Mode',\n",
              "       'Customer ID', 'Customer Name', 'Segment', 'Country', 'City', 'State',\n",
              "       'Postal Code', 'Region', 'Product ID', 'Category', 'Sub-Category',\n",
              "       'Product Name', 'Sales', 'Quantity', 'Discount', 'Profit'],\n",
              "      dtype='object')"
            ]
          },
          "metadata": {
            "tags": []
          },
          "execution_count": 6
        }
      ]
    },
    {
      "cell_type": "code",
      "metadata": {
        "id": "JVNgFbSZptdz",
        "outputId": "40c012f9-2a29-4c37-a3de-8a267cf97f64"
      },
      "source": [
        "#high level look at the data\n",
        "#summarizes all quantitative read data in dataframe\n",
        "df.describe()"
      ],
      "execution_count": null,
      "outputs": [
        {
          "output_type": "execute_result",
          "data": {
            "text/html": [
              "<div>\n",
              "<style scoped>\n",
              "    .dataframe tbody tr th:only-of-type {\n",
              "        vertical-align: middle;\n",
              "    }\n",
              "\n",
              "    .dataframe tbody tr th {\n",
              "        vertical-align: top;\n",
              "    }\n",
              "\n",
              "    .dataframe thead th {\n",
              "        text-align: right;\n",
              "    }\n",
              "</style>\n",
              "<table border=\"1\" class=\"dataframe\">\n",
              "  <thead>\n",
              "    <tr style=\"text-align: right;\">\n",
              "      <th></th>\n",
              "      <th>Row ID</th>\n",
              "      <th>Postal Code</th>\n",
              "      <th>Sales</th>\n",
              "      <th>Quantity</th>\n",
              "      <th>Discount</th>\n",
              "      <th>Profit</th>\n",
              "    </tr>\n",
              "  </thead>\n",
              "  <tbody>\n",
              "    <tr>\n",
              "      <th>count</th>\n",
              "      <td>9994.000000</td>\n",
              "      <td>9994.000000</td>\n",
              "      <td>9994.000000</td>\n",
              "      <td>9994.000000</td>\n",
              "      <td>9994.000000</td>\n",
              "      <td>9994.000000</td>\n",
              "    </tr>\n",
              "    <tr>\n",
              "      <th>mean</th>\n",
              "      <td>4997.500000</td>\n",
              "      <td>55190.379428</td>\n",
              "      <td>229.858001</td>\n",
              "      <td>3.789574</td>\n",
              "      <td>0.156203</td>\n",
              "      <td>28.656896</td>\n",
              "    </tr>\n",
              "    <tr>\n",
              "      <th>std</th>\n",
              "      <td>2885.163629</td>\n",
              "      <td>32063.693350</td>\n",
              "      <td>623.245101</td>\n",
              "      <td>2.225110</td>\n",
              "      <td>0.206452</td>\n",
              "      <td>234.260108</td>\n",
              "    </tr>\n",
              "    <tr>\n",
              "      <th>min</th>\n",
              "      <td>1.000000</td>\n",
              "      <td>1040.000000</td>\n",
              "      <td>0.444000</td>\n",
              "      <td>1.000000</td>\n",
              "      <td>0.000000</td>\n",
              "      <td>-6599.978000</td>\n",
              "    </tr>\n",
              "    <tr>\n",
              "      <th>25%</th>\n",
              "      <td>2499.250000</td>\n",
              "      <td>23223.000000</td>\n",
              "      <td>17.280000</td>\n",
              "      <td>2.000000</td>\n",
              "      <td>0.000000</td>\n",
              "      <td>1.728750</td>\n",
              "    </tr>\n",
              "    <tr>\n",
              "      <th>50%</th>\n",
              "      <td>4997.500000</td>\n",
              "      <td>56430.500000</td>\n",
              "      <td>54.490000</td>\n",
              "      <td>3.000000</td>\n",
              "      <td>0.200000</td>\n",
              "      <td>8.666500</td>\n",
              "    </tr>\n",
              "    <tr>\n",
              "      <th>75%</th>\n",
              "      <td>7495.750000</td>\n",
              "      <td>90008.000000</td>\n",
              "      <td>209.940000</td>\n",
              "      <td>5.000000</td>\n",
              "      <td>0.200000</td>\n",
              "      <td>29.364000</td>\n",
              "    </tr>\n",
              "    <tr>\n",
              "      <th>max</th>\n",
              "      <td>9994.000000</td>\n",
              "      <td>99301.000000</td>\n",
              "      <td>22638.480000</td>\n",
              "      <td>14.000000</td>\n",
              "      <td>0.800000</td>\n",
              "      <td>8399.976000</td>\n",
              "    </tr>\n",
              "  </tbody>\n",
              "</table>\n",
              "</div>"
            ],
            "text/plain": [
              "            Row ID   Postal Code         Sales     Quantity     Discount  \\\n",
              "count  9994.000000   9994.000000   9994.000000  9994.000000  9994.000000   \n",
              "mean   4997.500000  55190.379428    229.858001     3.789574     0.156203   \n",
              "std    2885.163629  32063.693350    623.245101     2.225110     0.206452   \n",
              "min       1.000000   1040.000000      0.444000     1.000000     0.000000   \n",
              "25%    2499.250000  23223.000000     17.280000     2.000000     0.000000   \n",
              "50%    4997.500000  56430.500000     54.490000     3.000000     0.200000   \n",
              "75%    7495.750000  90008.000000    209.940000     5.000000     0.200000   \n",
              "max    9994.000000  99301.000000  22638.480000    14.000000     0.800000   \n",
              "\n",
              "            Profit  \n",
              "count  9994.000000  \n",
              "mean     28.656896  \n",
              "std     234.260108  \n",
              "min   -6599.978000  \n",
              "25%       1.728750  \n",
              "50%       8.666500  \n",
              "75%      29.364000  \n",
              "max    8399.976000  "
            ]
          },
          "metadata": {
            "tags": []
          },
          "execution_count": 7
        }
      ]
    },
    {
      "cell_type": "code",
      "metadata": {
        "id": "K6urDKrgptdz",
        "outputId": "9caa4b81-dbbb-4b7d-9d0b-5303ee115f57"
      },
      "source": [
        "#what categories we have\n",
        "df[\"Category\"].value_counts()"
      ],
      "execution_count": null,
      "outputs": [
        {
          "output_type": "execute_result",
          "data": {
            "text/plain": [
              "Office Supplies    6026\n",
              "Furniture          2121\n",
              "Technology         1847\n",
              "Name: Category, dtype: int64"
            ]
          },
          "metadata": {
            "tags": []
          },
          "execution_count": 8
        }
      ]
    },
    {
      "cell_type": "code",
      "metadata": {
        "id": "_0NnlXkaptd0"
      },
      "source": [
        "#isolate only data related to furniture\n",
        "furn = df.loc[df[\"Category\"]==\"Furniture\"]"
      ],
      "execution_count": null,
      "outputs": []
    },
    {
      "cell_type": "code",
      "metadata": {
        "id": "He-A3jrEptd0",
        "outputId": "9a383e45-3b03-44e5-baa6-511d7edc12f4"
      },
      "source": [
        "furn.shape"
      ],
      "execution_count": null,
      "outputs": [
        {
          "output_type": "execute_result",
          "data": {
            "text/plain": [
              "(2121, 21)"
            ]
          },
          "metadata": {
            "tags": []
          },
          "execution_count": 10
        }
      ]
    },
    {
      "cell_type": "code",
      "metadata": {
        "id": "Zv7ehlVHptd1",
        "outputId": "ef765f06-435d-4afd-c419-154bf93ae921"
      },
      "source": [
        "#time span, when was the begining\n",
        "#year-month-day\n",
        "furn[\"Order Date\"].min()"
      ],
      "execution_count": null,
      "outputs": [
        {
          "output_type": "execute_result",
          "data": {
            "text/plain": [
              "Timestamp('2014-01-06 00:00:00')"
            ]
          },
          "metadata": {
            "tags": []
          },
          "execution_count": 11
        }
      ]
    },
    {
      "cell_type": "code",
      "metadata": {
        "id": "NOvwJegXptd1",
        "outputId": "0bdc6a21-d2db-400f-91c2-92b949a86bec"
      },
      "source": [
        "#time span, when the data ends\n",
        "#year-month-day\n",
        "furn[\"Order Date\"].max()"
      ],
      "execution_count": null,
      "outputs": [
        {
          "output_type": "execute_result",
          "data": {
            "text/plain": [
              "Timestamp('2017-12-30 00:00:00')"
            ]
          },
          "metadata": {
            "tags": []
          },
          "execution_count": 12
        }
      ]
    },
    {
      "cell_type": "code",
      "metadata": {
        "id": "C8CUzPsXptd1",
        "outputId": "51373706-3e18-482d-bf0f-ef558b61cc68"
      },
      "source": [
        "furn[\"Order Date\"].min(),furn[\"Order Date\"].max()"
      ],
      "execution_count": null,
      "outputs": [
        {
          "output_type": "execute_result",
          "data": {
            "text/plain": [
              "(Timestamp('2014-01-06 00:00:00'), Timestamp('2017-12-30 00:00:00'))"
            ]
          },
          "metadata": {
            "tags": []
          },
          "execution_count": 13
        }
      ]
    },
    {
      "cell_type": "code",
      "metadata": {
        "id": "ZGfaa4eZptd2",
        "outputId": "5730c91d-2130-45e8-831f-2dd86fa20a6f"
      },
      "source": [
        "furn.info()"
      ],
      "execution_count": null,
      "outputs": [
        {
          "output_type": "stream",
          "text": [
            "<class 'pandas.core.frame.DataFrame'>\n",
            "Int64Index: 2121 entries, 0 to 9990\n",
            "Data columns (total 21 columns):\n",
            " #   Column         Non-Null Count  Dtype         \n",
            "---  ------         --------------  -----         \n",
            " 0   Row ID         2121 non-null   int64         \n",
            " 1   Order ID       2121 non-null   object        \n",
            " 2   Order Date     2121 non-null   datetime64[ns]\n",
            " 3   Ship Date      2121 non-null   datetime64[ns]\n",
            " 4   Ship Mode      2121 non-null   object        \n",
            " 5   Customer ID    2121 non-null   object        \n",
            " 6   Customer Name  2121 non-null   object        \n",
            " 7   Segment        2121 non-null   object        \n",
            " 8   Country        2121 non-null   object        \n",
            " 9   City           2121 non-null   object        \n",
            " 10  State          2121 non-null   object        \n",
            " 11  Postal Code    2121 non-null   int64         \n",
            " 12  Region         2121 non-null   object        \n",
            " 13  Product ID     2121 non-null   object        \n",
            " 14  Category       2121 non-null   object        \n",
            " 15  Sub-Category   2121 non-null   object        \n",
            " 16  Product Name   2121 non-null   object        \n",
            " 17  Sales          2121 non-null   float64       \n",
            " 18  Quantity       2121 non-null   int64         \n",
            " 19  Discount       2121 non-null   float64       \n",
            " 20  Profit         2121 non-null   float64       \n",
            "dtypes: datetime64[ns](2), float64(3), int64(3), object(13)\n",
            "memory usage: 364.5+ KB\n"
          ],
          "name": "stdout"
        }
      ]
    },
    {
      "cell_type": "code",
      "metadata": {
        "id": "UHoXGU9kptd2",
        "outputId": "9b28b2fa-1cdd-4281-ae93-d9d5de293a66"
      },
      "source": [
        "furn.describe()"
      ],
      "execution_count": null,
      "outputs": [
        {
          "output_type": "execute_result",
          "data": {
            "text/html": [
              "<div>\n",
              "<style scoped>\n",
              "    .dataframe tbody tr th:only-of-type {\n",
              "        vertical-align: middle;\n",
              "    }\n",
              "\n",
              "    .dataframe tbody tr th {\n",
              "        vertical-align: top;\n",
              "    }\n",
              "\n",
              "    .dataframe thead th {\n",
              "        text-align: right;\n",
              "    }\n",
              "</style>\n",
              "<table border=\"1\" class=\"dataframe\">\n",
              "  <thead>\n",
              "    <tr style=\"text-align: right;\">\n",
              "      <th></th>\n",
              "      <th>Row ID</th>\n",
              "      <th>Postal Code</th>\n",
              "      <th>Sales</th>\n",
              "      <th>Quantity</th>\n",
              "      <th>Discount</th>\n",
              "      <th>Profit</th>\n",
              "    </tr>\n",
              "  </thead>\n",
              "  <tbody>\n",
              "    <tr>\n",
              "      <th>count</th>\n",
              "      <td>2121.000000</td>\n",
              "      <td>2121.000000</td>\n",
              "      <td>2121.000000</td>\n",
              "      <td>2121.000000</td>\n",
              "      <td>2121.000000</td>\n",
              "      <td>2121.000000</td>\n",
              "    </tr>\n",
              "    <tr>\n",
              "      <th>mean</th>\n",
              "      <td>5041.643564</td>\n",
              "      <td>55726.556341</td>\n",
              "      <td>349.834887</td>\n",
              "      <td>3.785007</td>\n",
              "      <td>0.173923</td>\n",
              "      <td>8.699327</td>\n",
              "    </tr>\n",
              "    <tr>\n",
              "      <th>std</th>\n",
              "      <td>2885.740258</td>\n",
              "      <td>32261.888225</td>\n",
              "      <td>503.179145</td>\n",
              "      <td>2.251620</td>\n",
              "      <td>0.181547</td>\n",
              "      <td>136.049246</td>\n",
              "    </tr>\n",
              "    <tr>\n",
              "      <th>min</th>\n",
              "      <td>1.000000</td>\n",
              "      <td>1040.000000</td>\n",
              "      <td>1.892000</td>\n",
              "      <td>1.000000</td>\n",
              "      <td>0.000000</td>\n",
              "      <td>-1862.312400</td>\n",
              "    </tr>\n",
              "    <tr>\n",
              "      <th>25%</th>\n",
              "      <td>2568.000000</td>\n",
              "      <td>22801.000000</td>\n",
              "      <td>47.040000</td>\n",
              "      <td>2.000000</td>\n",
              "      <td>0.000000</td>\n",
              "      <td>-12.849000</td>\n",
              "    </tr>\n",
              "    <tr>\n",
              "      <th>50%</th>\n",
              "      <td>5145.000000</td>\n",
              "      <td>60505.000000</td>\n",
              "      <td>182.220000</td>\n",
              "      <td>3.000000</td>\n",
              "      <td>0.200000</td>\n",
              "      <td>7.774800</td>\n",
              "    </tr>\n",
              "    <tr>\n",
              "      <th>75%</th>\n",
              "      <td>7534.000000</td>\n",
              "      <td>90032.000000</td>\n",
              "      <td>435.168000</td>\n",
              "      <td>5.000000</td>\n",
              "      <td>0.300000</td>\n",
              "      <td>33.726600</td>\n",
              "    </tr>\n",
              "    <tr>\n",
              "      <th>max</th>\n",
              "      <td>9991.000000</td>\n",
              "      <td>99301.000000</td>\n",
              "      <td>4416.174000</td>\n",
              "      <td>14.000000</td>\n",
              "      <td>0.700000</td>\n",
              "      <td>1013.127000</td>\n",
              "    </tr>\n",
              "  </tbody>\n",
              "</table>\n",
              "</div>"
            ],
            "text/plain": [
              "            Row ID   Postal Code        Sales     Quantity     Discount  \\\n",
              "count  2121.000000   2121.000000  2121.000000  2121.000000  2121.000000   \n",
              "mean   5041.643564  55726.556341   349.834887     3.785007     0.173923   \n",
              "std    2885.740258  32261.888225   503.179145     2.251620     0.181547   \n",
              "min       1.000000   1040.000000     1.892000     1.000000     0.000000   \n",
              "25%    2568.000000  22801.000000    47.040000     2.000000     0.000000   \n",
              "50%    5145.000000  60505.000000   182.220000     3.000000     0.200000   \n",
              "75%    7534.000000  90032.000000   435.168000     5.000000     0.300000   \n",
              "max    9991.000000  99301.000000  4416.174000    14.000000     0.700000   \n",
              "\n",
              "            Profit  \n",
              "count  2121.000000  \n",
              "mean      8.699327  \n",
              "std     136.049246  \n",
              "min   -1862.312400  \n",
              "25%     -12.849000  \n",
              "50%       7.774800  \n",
              "75%      33.726600  \n",
              "max    1013.127000  "
            ]
          },
          "metadata": {
            "tags": []
          },
          "execution_count": 15
        }
      ]
    },
    {
      "cell_type": "code",
      "metadata": {
        "id": "wBvQZlB9ptd2"
      },
      "source": [
        "#grouping data by the order data and focusing on sales data\n",
        "furn1 = furn.groupby([\"Order Date\"])[\"Sales\"].sum().reset_index()"
      ],
      "execution_count": null,
      "outputs": []
    },
    {
      "cell_type": "code",
      "metadata": {
        "id": "akNuzfQKptd3",
        "outputId": "af2c23a2-accf-4bce-d8b0-c32274409ed7"
      },
      "source": [
        "furn1.head(2)"
      ],
      "execution_count": null,
      "outputs": [
        {
          "output_type": "execute_result",
          "data": {
            "text/html": [
              "<div>\n",
              "<style scoped>\n",
              "    .dataframe tbody tr th:only-of-type {\n",
              "        vertical-align: middle;\n",
              "    }\n",
              "\n",
              "    .dataframe tbody tr th {\n",
              "        vertical-align: top;\n",
              "    }\n",
              "\n",
              "    .dataframe thead th {\n",
              "        text-align: right;\n",
              "    }\n",
              "</style>\n",
              "<table border=\"1\" class=\"dataframe\">\n",
              "  <thead>\n",
              "    <tr style=\"text-align: right;\">\n",
              "      <th></th>\n",
              "      <th>Order Date</th>\n",
              "      <th>Sales</th>\n",
              "    </tr>\n",
              "  </thead>\n",
              "  <tbody>\n",
              "    <tr>\n",
              "      <th>0</th>\n",
              "      <td>2014-01-06</td>\n",
              "      <td>2573.820</td>\n",
              "    </tr>\n",
              "    <tr>\n",
              "      <th>1</th>\n",
              "      <td>2014-01-07</td>\n",
              "      <td>76.728</td>\n",
              "    </tr>\n",
              "  </tbody>\n",
              "</table>\n",
              "</div>"
            ],
            "text/plain": [
              "  Order Date     Sales\n",
              "0 2014-01-06  2573.820\n",
              "1 2014-01-07    76.728"
            ]
          },
          "metadata": {
            "tags": []
          },
          "execution_count": 17
        }
      ]
    },
    {
      "cell_type": "code",
      "metadata": {
        "id": "bzzm9r1Wptd4"
      },
      "source": [
        "#indexing for time series data\n",
        "furn2 = furn1.set_index(\"Order Date\")"
      ],
      "execution_count": null,
      "outputs": []
    },
    {
      "cell_type": "code",
      "metadata": {
        "id": "9PY-MDsaptd4",
        "outputId": "359f5705-2695-4fbf-ac68-009818511539"
      },
      "source": [
        "furn2.head(2)"
      ],
      "execution_count": null,
      "outputs": [
        {
          "output_type": "execute_result",
          "data": {
            "text/html": [
              "<div>\n",
              "<style scoped>\n",
              "    .dataframe tbody tr th:only-of-type {\n",
              "        vertical-align: middle;\n",
              "    }\n",
              "\n",
              "    .dataframe tbody tr th {\n",
              "        vertical-align: top;\n",
              "    }\n",
              "\n",
              "    .dataframe thead th {\n",
              "        text-align: right;\n",
              "    }\n",
              "</style>\n",
              "<table border=\"1\" class=\"dataframe\">\n",
              "  <thead>\n",
              "    <tr style=\"text-align: right;\">\n",
              "      <th></th>\n",
              "      <th>Sales</th>\n",
              "    </tr>\n",
              "    <tr>\n",
              "      <th>Order Date</th>\n",
              "      <th></th>\n",
              "    </tr>\n",
              "  </thead>\n",
              "  <tbody>\n",
              "    <tr>\n",
              "      <th>2014-01-06</th>\n",
              "      <td>2573.820</td>\n",
              "    </tr>\n",
              "    <tr>\n",
              "      <th>2014-01-07</th>\n",
              "      <td>76.728</td>\n",
              "    </tr>\n",
              "  </tbody>\n",
              "</table>\n",
              "</div>"
            ],
            "text/plain": [
              "               Sales\n",
              "Order Date          \n",
              "2014-01-06  2573.820\n",
              "2014-01-07    76.728"
            ]
          },
          "metadata": {
            "tags": []
          },
          "execution_count": 19
        }
      ]
    },
    {
      "cell_type": "code",
      "metadata": {
        "id": "6Gz2aaF6ptd5"
      },
      "source": [
        "#converting our daily values to our monthly\n",
        "#we'll use the start of each month as the timestamp\n",
        "\n",
        "sales_data = furn2[\"Sales\"].resample('MS').mean()"
      ],
      "execution_count": null,
      "outputs": []
    },
    {
      "cell_type": "code",
      "metadata": {
        "id": "8BFxncR_ptd5",
        "outputId": "405582a9-7de5-4fce-b6ab-3546838b6b5d"
      },
      "source": [
        "sales_data[\"2017\":]"
      ],
      "execution_count": null,
      "outputs": [
        {
          "output_type": "execute_result",
          "data": {
            "text/plain": [
              "Order Date\n",
              "2017-01-01     397.602133\n",
              "2017-02-01     528.179800\n",
              "2017-03-01     544.672240\n",
              "2017-04-01     453.297905\n",
              "2017-05-01     678.302328\n",
              "2017-06-01     826.460291\n",
              "2017-07-01     562.524857\n",
              "2017-08-01     857.881889\n",
              "2017-09-01    1209.508583\n",
              "2017-10-01     875.362728\n",
              "2017-11-01    1277.817759\n",
              "2017-12-01    1256.298672\n",
              "Freq: MS, Name: Sales, dtype: float64"
            ]
          },
          "metadata": {
            "tags": []
          },
          "execution_count": 21
        }
      ]
    },
    {
      "cell_type": "code",
      "metadata": {
        "id": "qctbvH_7ptd5",
        "outputId": "45ae7609-c1eb-4bc5-9be7-949a6d9b242a"
      },
      "source": [
        "#adjusting the plot size\n",
        "from pylab import rcParams\n",
        "rcParams[\"figure.figsize\"] = 18,8\n",
        "\n",
        "#creating a decomposition visualization\n",
        "decomposition = sm.tsa.seasonal_decompose(sales_data, model=\"additive\")\n",
        "fig = decomposition.plot()\n",
        "plt.show()"
      ],
      "execution_count": null,
      "outputs": [
        {
          "output_type": "display_data",
          "data": {
            "image/png": "[encoded data removed]",
            "text/plain": [
              "<Figure size 1296x576 with 4 Axes>"
            ]
          },
          "metadata": {
            "tags": [],
            "needs_background": "light"
          }
        }
      ]
    },
    {
      "cell_type": "code",
      "metadata": {
        "id": "JovbVxu2ptd6"
      },
      "source": [
        "#What is ARIMA?\n",
        "#auto-regressive integrated moving averages\n",
        "#predictors depend on the parameters (p,d,q)\n",
        "#first goal will be to optimize these parameters"
      ],
      "execution_count": null,
      "outputs": []
    },
    {
      "cell_type": "code",
      "metadata": {
        "id": "VkFUraeSptd6",
        "outputId": "3046053b-8451-4e2a-ed1b-cd7ba98c5953"
      },
      "source": [
        "!pip install pmdarima"
      ],
      "execution_count": null,
      "outputs": [
        {
          "output_type": "stream",
          "text": [
            "Requirement already satisfied: pmdarima in c:\\users\\jciol\\anaconda3\\lib\\site-packages (1.8.0)\n",
            "Requirement already satisfied: Cython<0.29.18,>=0.29 in c:\\users\\jciol\\anaconda3\\lib\\site-packages (from pmdarima) (0.29.17)\n",
            "Requirement already satisfied: statsmodels!=0.12.0,>=0.11 in c:\\users\\jciol\\anaconda3\\lib\\site-packages (from pmdarima) (0.11.1)\n",
            "Requirement already satisfied: scikit-learn>=0.22 in c:\\users\\jciol\\anaconda3\\lib\\site-packages (from pmdarima) (0.23.1)\n",
            "Requirement already satisfied: joblib>=0.11 in c:\\users\\jciol\\anaconda3\\lib\\site-packages (from pmdarima) (0.16.0)\n",
            "Requirement already satisfied: scipy>=1.3.2 in c:\\users\\jciol\\anaconda3\\lib\\site-packages (from pmdarima) (1.5.0)\n",
            "Requirement already satisfied: setuptools!=50.0.0,>=38.6.0 in c:\\users\\jciol\\anaconda3\\lib\\site-packages (from pmdarima) (49.2.0.post20200714)\n",
            "Requirement already satisfied: numpy>=1.17.3 in c:\\users\\jciol\\anaconda3\\lib\\site-packages (from pmdarima) (1.18.5)\n",
            "Requirement already satisfied: urllib3 in c:\\users\\jciol\\anaconda3\\lib\\site-packages (from pmdarima) (1.25.9)\n",
            "Requirement already satisfied: pandas>=0.19 in c:\\users\\jciol\\anaconda3\\lib\\site-packages (from pmdarima) (1.0.5)\n",
            "Requirement already satisfied: patsy>=0.5 in c:\\users\\jciol\\anaconda3\\lib\\site-packages (from statsmodels!=0.12.0,>=0.11->pmdarima) (0.5.1)\n",
            "Requirement already satisfied: threadpoolctl>=2.0.0 in c:\\users\\jciol\\anaconda3\\lib\\site-packages (from scikit-learn>=0.22->pmdarima) (2.1.0)\n",
            "Requirement already satisfied: pytz>=2017.2 in c:\\users\\jciol\\anaconda3\\lib\\site-packages (from pandas>=0.19->pmdarima) (2020.1)\n",
            "Requirement already satisfied: python-dateutil>=2.6.1 in c:\\users\\jciol\\anaconda3\\lib\\site-packages (from pandas>=0.19->pmdarima) (2.8.1)\n",
            "Requirement already satisfied: six in c:\\users\\jciol\\anaconda3\\lib\\site-packages (from patsy>=0.5->statsmodels!=0.12.0,>=0.11->pmdarima) (1.15.0)\n"
          ],
          "name": "stdout"
        }
      ]
    },
    {
      "cell_type": "code",
      "metadata": {
        "id": "tRnMAbSyptd7",
        "outputId": "37b6513a-c912-489a-ec44-00ba907c9482"
      },
      "source": [
        "from pmdarima.arima import auto_arima\n",
        "\n",
        "#quick divide for training and testing\n",
        "train = sales_data[:int(0.8*(len(sales_data)))]\n",
        "test = sales_data[int(0.8*(len(sales_data))):]\n",
        "print(train.shape)\n",
        "print(test.shape)"
      ],
      "execution_count": null,
      "outputs": [
        {
          "output_type": "stream",
          "text": [
            "(38,)\n",
            "(10,)\n"
          ],
          "name": "stdout"
        }
      ]
    },
    {
      "cell_type": "code",
      "metadata": {
        "id": "-lh36IM4ptd7",
        "outputId": "0bbec30e-6d04-419d-e914-3656f3442227"
      },
      "source": [
        "#auto arima model training\n",
        "model = auto_arima(train, trace=True, start_p=0, start_q=0, start_P=0,\n",
        "                  start_Q=0, max_p=10, max_q=10, max_P=10, max_Q=10,\n",
        "                  seasonal = True, stepwise = False, suppress_warnings=True,\n",
        "                  D=1, max_D=10, error_action='ignore', approximation=False)\n",
        "#fit our model\n",
        "model.fit(train)"
      ],
      "execution_count": null,
      "outputs": [
        {
          "output_type": "stream",
          "text": [
            " ARIMA(0,0,0)(0,0,0)[1] intercept   : AIC=546.452, Time=0.01 sec\n",
            " ARIMA(0,0,1)(0,0,0)[1] intercept   : AIC=547.477, Time=0.04 sec\n",
            " ARIMA(0,0,2)(0,0,0)[1] intercept   : AIC=549.295, Time=0.05 sec\n",
            " ARIMA(0,0,3)(0,0,0)[1] intercept   : AIC=550.755, Time=0.07 sec\n",
            " ARIMA(0,0,4)(0,0,0)[1] intercept   : AIC=inf, Time=0.12 sec\n",
            " ARIMA(0,0,5)(0,0,0)[1] intercept   : AIC=inf, Time=0.14 sec\n",
            " ARIMA(1,0,0)(0,0,0)[1] intercept   : AIC=547.587, Time=0.01 sec\n",
            " ARIMA(1,0,1)(0,0,0)[1] intercept   : AIC=549.584, Time=0.02 sec\n",
            " ARIMA(1,0,2)(0,0,0)[1] intercept   : AIC=551.162, Time=0.02 sec\n",
            " ARIMA(1,0,3)(0,0,0)[1] intercept   : AIC=inf, Time=0.09 sec\n",
            " ARIMA(1,0,4)(0,0,0)[1] intercept   : AIC=inf, Time=0.14 sec\n",
            " ARIMA(2,0,0)(0,0,0)[1] intercept   : AIC=549.558, Time=0.02 sec\n",
            " ARIMA(2,0,1)(0,0,0)[1] intercept   : AIC=551.518, Time=0.03 sec\n",
            " ARIMA(2,0,2)(0,0,0)[1] intercept   : AIC=553.157, Time=0.08 sec\n",
            " ARIMA(2,0,3)(0,0,0)[1] intercept   : AIC=553.818, Time=0.09 sec\n",
            " ARIMA(3,0,0)(0,0,0)[1] intercept   : AIC=551.075, Time=0.02 sec\n",
            " ARIMA(3,0,1)(0,0,0)[1] intercept   : AIC=552.935, Time=0.03 sec\n",
            " ARIMA(3,0,2)(0,0,0)[1] intercept   : AIC=549.600, Time=0.10 sec\n",
            " ARIMA(4,0,0)(0,0,0)[1] intercept   : AIC=551.491, Time=0.03 sec\n",
            " ARIMA(4,0,1)(0,0,0)[1] intercept   : AIC=552.935, Time=0.14 sec\n",
            " ARIMA(5,0,0)(0,0,0)[1] intercept   : AIC=551.088, Time=0.08 sec\n",
            "\n",
            "Best model:  ARIMA(0,0,0)(0,0,0)[1] intercept\n",
            "Total fit time: 1.332 seconds\n"
          ],
          "name": "stdout"
        },
        {
          "output_type": "execute_result",
          "data": {
            "text/plain": [
              "ARIMA(order=(0, 0, 0), scoring_args={}, seasonal_order=(0, 0, 0, 1),\n",
              "      suppress_warnings=True)"
            ]
          },
          "metadata": {
            "tags": []
          },
          "execution_count": 26
        }
      ]
    },
    {
      "cell_type": "code",
      "metadata": {
        "id": "zcfuEs70ptd7",
        "outputId": "fd5d74de-2248-40a0-87a6-067e497f1ad5"
      },
      "source": [
        "model.summary()"
      ],
      "execution_count": null,
      "outputs": [
        {
          "output_type": "execute_result",
          "data": {
            "text/html": [
              "<table class=\"simpletable\">\n",
              "<caption>SARIMAX Results</caption>\n",
              "<tr>\n",
              "  <th>Dep. Variable:</th>           <td>y</td>        <th>  No. Observations:  </th>    <td>38</td>   \n",
              "</tr>\n",
              "<tr>\n",
              "  <th>Model:</th>                <td>SARIMAX</td>     <th>  Log Likelihood     </th> <td>-271.226</td>\n",
              "</tr>\n",
              "<tr>\n",
              "  <th>Date:</th>            <td>Sat, 17 Apr 2021</td> <th>  AIC                </th>  <td>546.452</td>\n",
              "</tr>\n",
              "<tr>\n",
              "  <th>Time:</th>                <td>11:07:48</td>     <th>  BIC                </th>  <td>549.727</td>\n",
              "</tr>\n",
              "<tr>\n",
              "  <th>Sample:</th>                  <td>0</td>        <th>  HQIC               </th>  <td>547.617</td>\n",
              "</tr>\n",
              "<tr>\n",
              "  <th></th>                       <td> - 38</td>      <th>                     </th>     <td> </td>   \n",
              "</tr>\n",
              "<tr>\n",
              "  <th>Covariance Type:</th>        <td>opg</td>       <th>                     </th>     <td> </td>   \n",
              "</tr>\n",
              "</table>\n",
              "<table class=\"simpletable\">\n",
              "<tr>\n",
              "      <td></td>         <th>coef</th>     <th>std err</th>      <th>z</th>      <th>P>|z|</th>  <th>[0.025</th>    <th>0.975]</th>  \n",
              "</tr>\n",
              "<tr>\n",
              "  <th>intercept</th> <td>  765.6258</td> <td>   63.779</td> <td>   12.004</td> <td> 0.000</td> <td>  640.622</td> <td>  890.630</td>\n",
              "</tr>\n",
              "<tr>\n",
              "  <th>sigma2</th>    <td>  9.27e+04</td> <td> 2.78e+04</td> <td>    3.332</td> <td> 0.001</td> <td> 3.82e+04</td> <td> 1.47e+05</td>\n",
              "</tr>\n",
              "</table>\n",
              "<table class=\"simpletable\">\n",
              "<tr>\n",
              "  <th>Ljung-Box (Q):</th>          <td>50.74</td> <th>  Jarque-Bera (JB):  </th> <td>4.95</td>\n",
              "</tr>\n",
              "<tr>\n",
              "  <th>Prob(Q):</th>                <td>0.07</td>  <th>  Prob(JB):          </th> <td>0.08</td>\n",
              "</tr>\n",
              "<tr>\n",
              "  <th>Heteroskedasticity (H):</th> <td>0.98</td>  <th>  Skew:              </th> <td>0.88</td>\n",
              "</tr>\n",
              "<tr>\n",
              "  <th>Prob(H) (two-sided):</th>    <td>0.97</td>  <th>  Kurtosis:          </th> <td>2.95</td>\n",
              "</tr>\n",
              "</table><br/><br/>Warnings:<br/>[1] Covariance matrix calculated using the outer product of gradients (complex-step)."
            ],
            "text/plain": [
              "<class 'statsmodels.iolib.summary.Summary'>\n",
              "\"\"\"\n",
              "                               SARIMAX Results                                \n",
              "==============================================================================\n",
              "Dep. Variable:                      y   No. Observations:                   38\n",
              "Model:                        SARIMAX   Log Likelihood                -271.226\n",
              "Date:                Sat, 17 Apr 2021   AIC                            546.452\n",
              "Time:                        11:07:48   BIC                            549.727\n",
              "Sample:                             0   HQIC                           547.617\n",
              "                                 - 38                                         \n",
              "Covariance Type:                  opg                                         \n",
              "==============================================================================\n",
              "                 coef    std err          z      P>|z|      [0.025      0.975]\n",
              "------------------------------------------------------------------------------\n",
              "intercept    765.6258     63.779     12.004      0.000     640.622     890.630\n",
              "sigma2       9.27e+04   2.78e+04      3.332      0.001    3.82e+04    1.47e+05\n",
              "===================================================================================\n",
              "Ljung-Box (Q):                       50.74   Jarque-Bera (JB):                 4.95\n",
              "Prob(Q):                              0.07   Prob(JB):                         0.08\n",
              "Heteroskedasticity (H):               0.98   Skew:                             0.88\n",
              "Prob(H) (two-sided):                  0.97   Kurtosis:                         2.95\n",
              "===================================================================================\n",
              "\n",
              "Warnings:\n",
              "[1] Covariance matrix calculated using the outer product of gradients (complex-step).\n",
              "\"\"\""
            ]
          },
          "metadata": {
            "tags": []
          },
          "execution_count": 27
        }
      ]
    },
    {
      "cell_type": "code",
      "metadata": {
        "id": "qyZa3elFptd8"
      },
      "source": [
        "prediction = pd.DataFrame(model.predict(n_periods=10), index=test.index)\n",
        "prediction.columns = [\"predicted_sales\"]\n",
        "\n",
        "test=test.reset_index()"
      ],
      "execution_count": null,
      "outputs": []
    },
    {
      "cell_type": "code",
      "metadata": {
        "id": "0wJTj0URptd9",
        "outputId": "97536cff-e733-4da2-e066-37ccacb45061"
      },
      "source": [
        "from sklearn.metrics import r2_score\n",
        "r2_score(test[\"Sales\"],prediction[\"predicted_sales\"])"
      ],
      "execution_count": null,
      "outputs": [
        {
          "output_type": "execute_result",
          "data": {
            "text/plain": [
              "-0.09329616893369752"
            ]
          },
          "metadata": {
            "tags": []
          },
          "execution_count": 29
        }
      ]
    },
    {
      "cell_type": "code",
      "metadata": {
        "id": "PoKxEdcCptd9"
      },
      "source": [
        ""
      ],
      "execution_count": null,
      "outputs": []
    }
  ]
}